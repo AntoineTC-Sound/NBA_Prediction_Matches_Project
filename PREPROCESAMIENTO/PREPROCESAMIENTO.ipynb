{
 "cells": [
  {
   "cell_type": "markdown",
   "id": "3be0af2e",
   "metadata": {},
   "source": [
    "### TEAMS"
   ]
  },
  {
   "cell_type": "code",
   "execution_count": 1,
   "id": "e70957ef",
   "metadata": {},
   "outputs": [],
   "source": [
    "import pandas as pd\n",
    "import numpy as np\n",
    "import warnings\n",
    "import funciones_nba_prep\n",
    "from funciones_nba_prep import *\n",
    "warnings.filterwarnings('ignore')"
   ]
  },
  {
   "cell_type": "code",
   "execution_count": 2,
   "id": "b031073d",
   "metadata": {},
   "outputs": [],
   "source": [
    "data_equipos = pd.read_csv('AllGames_StatsALL.csv')\n",
    "\n",
    "data_equipos = ordenar_data_equipos(data_equipos)"
   ]
  },
  {
   "cell_type": "markdown",
   "id": "2a7eb840",
   "metadata": {},
   "source": [
    "Ordenamos el Data Frame de manera que sea más fácil trbajar con él."
   ]
  },
  {
   "cell_type": "code",
   "execution_count": 3,
   "id": "57705271",
   "metadata": {},
   "outputs": [],
   "source": [
    "start_date = '2020-12-22'\n",
    "end_date = '2023-04-09'\n",
    "df_22_23 = select_season(start_date, end_date, data_equipos)"
   ]
  },
  {
   "cell_type": "markdown",
   "id": "c395d154",
   "metadata": {},
   "source": [
    "Hemos seleccionado las temporadas 20-21, 21-22, 22-23 de las estadisticas de equipos."
   ]
  },
  {
   "cell_type": "code",
   "execution_count": 4,
   "id": "64927bdc",
   "metadata": {},
   "outputs": [],
   "source": [
    "lista_equipos = df_22_23['Team'].unique()\n",
    "columns_to_exclude = ['Team', 'Date1', 'Date', 'H/A', 'Opp', 'Result']\n",
    "dfs_ponderados = []\n",
    "\n",
    "for i in lista_equipos:\n",
    "    team = df_22_23[df_22_23['Team']==i]\n",
    "    team_pond = stats_acumuladas(team, 5,columns_to_exclude)  \n",
    "    dfs_ponderados.append(team_pond)"
   ]
  },
  {
   "cell_type": "markdown",
   "id": "5d3ae600",
   "metadata": {},
   "source": [
    "Generamos una lista con los data frames de los equipos con sus estadisticas acumuladas ponderadas."
   ]
  },
  {
   "cell_type": "code",
   "execution_count": 5,
   "id": "98d9c9db",
   "metadata": {},
   "outputs": [],
   "source": [
    "team_df = pd.concat(dfs_ponderados)\n",
    "team_df = generate_ID(team_df)\n",
    "team_df= clean_teamdf(team_df)"
   ]
  },
  {
   "cell_type": "markdown",
   "id": "1d1fa077",
   "metadata": {},
   "source": [
    "Generamos un data frame a partir de la lista anterior, generamos un Game ID y ordenamos y limpiamos el data frame."
   ]
  },
  {
   "cell_type": "markdown",
   "id": "1ad14d87",
   "metadata": {},
   "source": [
    "### PLAYERS"
   ]
  },
  {
   "cell_type": "code",
   "execution_count": 6,
   "id": "9910ddbd",
   "metadata": {},
   "outputs": [],
   "source": [
    "equipos = ['ATL', 'BOS', 'BRK', 'CHI', 'CHO', 'CLE', 'DAL', 'DEN', 'DET', 'GSW', 'HOU', 'IND', \n",
    "                          'LAC', 'LAL', 'MEM', 'MIA', 'MIL', 'MIN', 'NOP', 'NYK', 'OKC', 'ORL', 'PHI', \n",
    "                          'PHO', 'POR', 'SAC', 'SAS', 'TOR', 'UTA', 'WAS']\n",
    "\n",
    "lista_players_22_23 = Generate_List_Player_Weigth_Stats(equipos)"
   ]
  },
  {
   "cell_type": "code",
   "execution_count": 7,
   "id": "a60b7c48",
   "metadata": {},
   "outputs": [],
   "source": [
    "lista_players_22_23_WC = []\n",
    "columns_to_exclude = ['Team', 'Date', 'Date1', 'Opp']\n",
    "\n",
    "for i in lista_players_22_23:\n",
    "    i_WC = stats_acumuladas(i, 5, columns_to_exclude)\n",
    "    lista_players_22_23_WC.append(i_WC)"
   ]
  },
  {
   "cell_type": "markdown",
   "id": "da0a6e29",
   "metadata": {},
   "source": [
    "Generamos una lista con las stats acumuladas de P1 y P2."
   ]
  },
  {
   "cell_type": "code",
   "execution_count": 8,
   "id": "946384e9",
   "metadata": {
    "scrolled": true
   },
   "outputs": [],
   "source": [
    "player_df = pd.concat(lista_players_22_23_WC)\n",
    "\n",
    "player_df = generate_ID(player_df)\n",
    "\n",
    "player_df = order_playerdf(player_df)"
   ]
  },
  {
   "cell_type": "markdown",
   "id": "de551356",
   "metadata": {},
   "source": [
    "Generamos un data frame de jugadores a partir de la lista anterior.\n",
    "Generamos su columna de Game ID\n",
    "Ordenamos y limpiamos el data frame para trabajar con este y poder unirlo al data frame de equipos.\n",
    "\n",
    "Ahora que tenemos tanto las estadisticas acumuladas tanto de equipo como de jugadores, vamos a hacer un merge de ambas."
   ]
  },
  {
   "cell_type": "markdown",
   "id": "2540bdf2",
   "metadata": {},
   "source": [
    "### MERGE"
   ]
  },
  {
   "cell_type": "code",
   "execution_count": 9,
   "id": "e96a0a07",
   "metadata": {},
   "outputs": [],
   "source": [
    "merged_df = pd.merge(team_df, player_df, on=['Game_ID', 'Date', 'Team', 'Opp'], how='outer')"
   ]
  },
  {
   "cell_type": "markdown",
   "id": "5fc53167",
   "metadata": {},
   "source": [
    "Ahora que tenemos un merge de equipos y jugadores, vamos a separar por la columna H/A y vamos a volver a hacer un merge, para tener todo el partido en una sola fila."
   ]
  },
  {
   "cell_type": "code",
   "execution_count": 10,
   "id": "1aaf19fb",
   "metadata": {},
   "outputs": [],
   "source": [
    "df_sorted = merged_df.copy()\n",
    "for idx in df_sorted.index:\n",
    "    if df_sorted.loc[idx, 'H/A'] == '@':\n",
    "        df_sorted.loc[idx, 'H/A'] = 'Away'\n",
    "    else:\n",
    "        df_sorted.loc[idx, 'H/A'] = 'Home'"
   ]
  },
  {
   "cell_type": "code",
   "execution_count": 11,
   "id": "b344789d",
   "metadata": {},
   "outputs": [],
   "source": [
    "df_home, df_away = sep_home_away(df_sorted)"
   ]
  },
  {
   "cell_type": "markdown",
   "id": "14beab78",
   "metadata": {},
   "source": [
    "Ahora que lo tenemos separados por home y Away, aprovecharemos para generar las rachas de un equipo contra otro.\n",
    "\n",
    "Por úlitmo uniremos de manera horizontal la columna Home y Away, para así tener los equipos locales a un lado del data frame, y a los equipos visitantes en el otro."
   ]
  },
  {
   "cell_type": "code",
   "execution_count": 12,
   "id": "60e6f23e",
   "metadata": {},
   "outputs": [],
   "source": [
    "df_rank = df_ranked(df_home, df_away)"
   ]
  },
  {
   "cell_type": "code",
   "execution_count": 13,
   "id": "4e32dce9",
   "metadata": {},
   "outputs": [],
   "source": [
    "df_h_rank, df_a_rank =  sep_home_away(df_rank)\n",
    "final_df = join_hor_home_away(df_h_rank, df_a_rank)"
   ]
  },
  {
   "cell_type": "markdown",
   "id": "e3457954",
   "metadata": {},
   "source": [
    "Solo queda ordenar y renombrar columnas para que el data_set tenga sentido."
   ]
  },
  {
   "cell_type": "code",
   "execution_count": 14,
   "id": "af9ea458",
   "metadata": {
    "scrolled": true
   },
   "outputs": [],
   "source": [
    "final_df = rename_and_order(final_df)"
   ]
  },
  {
   "cell_type": "code",
   "execution_count": 15,
   "id": "58c92939",
   "metadata": {},
   "outputs": [],
   "source": [
    "final_df=final_df[(final_df['MP_Home'] != 0) & (final_df['MP_Away'] != 0)]"
   ]
  },
  {
   "cell_type": "markdown",
   "id": "72d84c3e",
   "metadata": {},
   "source": [
    "### IMPORTANTE:\n",
    "\n",
    " - Hemos decidido tomar la decisión de que la variable objetivo será el resultado desde la perspectiva del equipo local (Home), por lo que de ahora en adelante (a no ser que cambiemos la decisión, y por tanto el dataset) los modelos que crearemos estarán enfocados en predecir si Home gana o pierde. "
   ]
  },
  {
   "cell_type": "markdown",
   "id": "14098f85",
   "metadata": {},
   "source": [
    "Ahora que tenemos el dataset final, antes de hacer EDA, PCA y demás análisis y preprocesamiento y optimización, vamos a realizar un modelo de prueba para comprobar como rendiría este data frame por sí mismo."
   ]
  },
  {
   "cell_type": "code",
   "execution_count": 16,
   "id": "47fd9fae",
   "metadata": {},
   "outputs": [],
   "source": [
    "X = final_df._get_numeric_data()\n",
    "y = final_df['Result']\n",
    "\n",
    "y = y.apply(lambda x: 'W' if 'W' in str(x) else 'L')\n",
    "y = pd.DataFrame(y)\n",
    "y = pd.get_dummies(y, drop_first=True, dtype='float')"
   ]
  },
  {
   "cell_type": "code",
   "execution_count": 17,
   "id": "22999d5f",
   "metadata": {},
   "outputs": [
    {
     "data": {
      "text/plain": [
       "0.65"
      ]
     },
     "execution_count": 17,
     "metadata": {},
     "output_type": "execute_result"
    }
   ],
   "source": [
    "from sklearn.model_selection import train_test_split\n",
    "Xtrain, Xtest, ytrain, ytest = train_test_split(X, y, test_size=0.1, random_state=42)\n",
    "\n",
    "from sklearn.linear_model import LogisticRegression\n",
    "clf = LogisticRegression()\n",
    "clf.fit(Xtrain, ytrain)\n",
    "\n",
    "yhat=clf.predict(Xtest)\n",
    "\n",
    "from sklearn.metrics import accuracy_score, confusion_matrix, ConfusionMatrixDisplay\n",
    "round(accuracy_score(ytest, yhat),2)"
   ]
  },
  {
   "cell_type": "code",
   "execution_count": 18,
   "id": "10dba5dc",
   "metadata": {},
   "outputs": [
    {
     "data": {
      "text/plain": [
       "<sklearn.metrics._plot.confusion_matrix.ConfusionMatrixDisplay at 0x169ac6a90>"
      ]
     },
     "execution_count": 18,
     "metadata": {},
     "output_type": "execute_result"
    },
    {
     "data": {
      "image/png": "[encoded data removed]",
      "text/plain": [
       "<Figure size 640x480 with 2 Axes>"
      ]
     },
     "metadata": {},
     "output_type": "display_data"
    }
   ],
   "source": [
    "cfm = confusion_matrix(ytest, yhat) # ()\n",
    "disp = ConfusionMatrixDisplay(cfm)\n",
    "disp.plot()"
   ]
  },
  {
   "cell_type": "markdown",
   "id": "3712337e",
   "metadata": {},
   "source": [
    "Hemos obtenido un accuracy de 0.65, este rendimiento no es del todo malo teniendo en cuenta la complejidad de la predicción y lo prematuro que aún son estos datos.\n",
    "\n",
    "Una primera obseración de este modelo de prueba es que tiende más a predecir victorias que derrotas, esto seguramente se deba a que estamos prediciendo el resultado del equipo Local, por lo que es normal que tienda en cierta medida hacia la victoria."
   ]
  },
  {
   "cell_type": "code",
   "execution_count": 19,
   "id": "b9a340c4",
   "metadata": {},
   "outputs": [],
   "source": [
    "#final_df.to_csv('DataFrameForEDA.csv', index=False)"
   ]
  }
 ],
 "metadata": {
  "kernelspec": {
   "display_name": "Python 3 (ipykernel)",
   "language": "python",
   "name": "python3"
  },
  "language_info": {
   "codemirror_mode": {
    "name": "ipython",
    "version": 3
   },
   "file_extension": ".py",
   "mimetype": "text/x-python",
   "name": "python",
   "nbconvert_exporter": "python",
   "pygments_lexer": "ipython3",
   "version": "3.11.5"
  }
 },
 "nbformat": 4,
 "nbformat_minor": 5
}
